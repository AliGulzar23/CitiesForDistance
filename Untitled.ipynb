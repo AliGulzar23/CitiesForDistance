{
 "cells": [
  {
   "cell_type": "code",
   "execution_count": null,
   "id": "daddc8ab",
   "metadata": {},
   "outputs": [
    {
     "name": "stdout",
     "output_type": "stream",
     "text": [
      "162.39381841442946\n"
     ]
    }
   ],
   "source": [
    "import os\n",
    "from math import radians, cos, sin, asin, sqrt\n",
    "import numpy as np\n",
    "import pandas as pd\n",
    "values = [52.4862,1.8904,51.5074,0.1278]\n",
    "lat1, lon1, lat2, lon2 = map(np.radians,values)\n",
    "\n",
    "latDiff = lat2 - lat1\n",
    "lonDiff = lon2 - lon1\n",
    "a = sin(latDiff/2)**2 + cos(lat1) * cos(lat2) * sin(lonDiff/2)**2\n",
    "c = 2 * asin(sqrt(a))\n",
    "km = 6367 * c\n",
    "print(km)\n",
    "distance = input(\"enter your distance\")\n"
   ]
  },
  {
   "cell_type": "code",
   "execution_count": null,
   "id": "f63bf786",
   "metadata": {},
   "outputs": [],
   "source": []
  }
 ],
 "metadata": {
  "kernelspec": {
   "display_name": "Python 3",
   "language": "python",
   "name": "python3"
  },
  "language_info": {
   "codemirror_mode": {
    "name": "ipython",
    "version": 3
   },
   "file_extension": ".py",
   "mimetype": "text/x-python",
   "name": "python",
   "nbconvert_exporter": "python",
   "pygments_lexer": "ipython3",
   "version": "3.8.8"
  }
 },
 "nbformat": 4,
 "nbformat_minor": 5
}
