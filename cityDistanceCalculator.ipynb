{
 "cells": [
  {
   "cell_type": "code",
   "execution_count": 27,
   "id": "3e0b0509",
   "metadata": {},
   "outputs": [
    {
     "name": "stdout",
     "output_type": "stream",
     "text": [
      "type your distance (km)555\n",
      "The your cities with  0 km remaining are: \n",
      " Fairbanks \n",
      " Whitehorse\n",
      "4 6\n"
     ]
    }
   ],
   "source": [
    "import os\n",
    "import numpy as np\n",
    "import math\n",
    "distance = int(input(\"type your distance (km)\"))\n",
    "f = open(\"matrix.csv\",\"r\")\n",
    "closestDistance = 100000\n",
    "row = 0\n",
    "rowPos =0 \n",
    "collumnPos = 0\n",
    "for x in f:\n",
    "    lst = x.split(',')\n",
    "    for collumn in range(1,len(lst)):\n",
    "        if row>0:\n",
    "            currentDistance = abs(math.floor(float(lst[collumn])))\n",
    "            \n",
    "            if abs(currentDistance -distance) < abs(closestDistance - distance):\n",
    "                closestDistance = currentDistance\n",
    "                rowPos = row\n",
    "                collumnPos = collumn\n",
    "    row +=1\n",
    "f.close()\n",
    "f = open(\"CityInfo.csv\",\"r\")\n",
    "cities = []\n",
    "for x in f:\n",
    "    cities.append(x.split(\",\")[0])\n",
    "    \n",
    "print(\"The your cities with \" , closestDistance - distance , \"km remaining are: \\n\",cities[rowPos+1],\"\\n\",cities[collumnPos+1])\n",
    "print(rowPos-1,collumnPos-1)"
   ]
  },
  {
   "cell_type": "code",
   "execution_count": null,
   "id": "6a774456",
   "metadata": {},
   "outputs": [],
   "source": []
  },
  {
   "cell_type": "code",
   "execution_count": null,
   "id": "25829e5a",
   "metadata": {},
   "outputs": [],
   "source": []
  }
 ],
 "metadata": {
  "kernelspec": {
   "display_name": "Python 3",
   "language": "python",
   "name": "python3"
  },
  "language_info": {
   "codemirror_mode": {
    "name": "ipython",
    "version": 3
   },
   "file_extension": ".py",
   "mimetype": "text/x-python",
   "name": "python",
   "nbconvert_exporter": "python",
   "pygments_lexer": "ipython3",
   "version": "3.8.8"
  }
 },
 "nbformat": 4,
 "nbformat_minor": 5
}
